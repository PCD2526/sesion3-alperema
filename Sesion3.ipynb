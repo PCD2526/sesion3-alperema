{
  "cells": [
    {
      "cell_type": "markdown",
      "metadata": {
        "id": "view-in-github",
        "colab_type": "text"
      },
      "source": [
        "<a href=\"https://colab.research.google.com/github/PCD2526/sesion3-alperema/blob/main/Sesion3.ipynb\" target=\"_parent\"><img src=\"https://colab.research.google.com/assets/colab-badge.svg\" alt=\"Open In Colab\"/></a>"
      ]
    },
    {
      "cell_type": "markdown",
      "metadata": {
        "id": "aaRjJfK0mCu8"
      },
      "source": [
        "# Sesión 3: estructuras de datos y ficheros"
      ]
    },
    {
      "cell_type": "markdown",
      "metadata": {
        "id": "OfEu7DuRmCu-"
      },
      "source": [
        "En esta sesión vamos a incidir de nuevo en el manejo de estructuras de alto nivel (listas, tuplas, conjuntos y diccionarios). Además, tratamos brevemente el asunto de los ficheros en Python. No vamos a entrar de lleno en ello, ya que, para los objetivos del curso, resulta más conveniente esperar a tratar el manejo de ficheros usando librerías (Pandas y Numpy)."
      ]
    },
    {
      "cell_type": "markdown",
      "metadata": {
        "id": "cy82JMKkmCu-"
      },
      "source": [
        "Podemos encontrar explicación con un nivel suficiente de detalle en la [Sección 5 del tutorial de Python](https://docs.python.org/3/tutorial/datastructures.html).\n",
        "\n",
        "También es adecuda la sección dedicada a [\"data structures and sequences\" del libro \"Python for data analysis\"](https://wesmckinney.com/book/python-builtin#tut_data_structures)."
      ]
    },
    {
      "cell_type": "markdown",
      "metadata": {
        "id": "tSUIeBnCmCu_"
      },
      "source": [
        "## Listas"
      ]
    },
    {
      "cell_type": "markdown",
      "metadata": {
        "id": "aHOPAa6xmCu_"
      },
      "source": [
        "Las listas de Python son objetos heterogéneos mutables.\n",
        "El acceso habitual es por índice o a través de slices.\n",
        "Se dispone de un importante grupo de métodos (de los objetos de la clase List) para operar con listas."
      ]
    },
    {
      "cell_type": "code",
      "execution_count": 1,
      "metadata": {
        "id": "Gx1FX3ylmCvA",
        "outputId": "c1569e9b-885e-46a7-a1ab-73d396d4694e",
        "colab": {
          "base_uri": "https://localhost:8080/"
        }
      },
      "outputs": [
        {
          "output_type": "stream",
          "name": "stdout",
          "text": [
            "0\n"
          ]
        },
        {
          "output_type": "execute_result",
          "data": {
            "text/plain": [
              "[23, 45, 67, 89, 7]"
            ]
          },
          "metadata": {},
          "execution_count": 1
        }
      ],
      "source": [
        "#para añadir al final append\n",
        "J=[\"pepe\",3]\n",
        "print(J.index(\"pepe\"))\n",
        "L=[23,45,67,89]\n",
        "L.append(7)\n",
        "L"
      ]
    },
    {
      "cell_type": "code",
      "execution_count": 2,
      "metadata": {
        "id": "ys7d-88zmCvB",
        "outputId": "759d5813-e490-49ff-bf3b-8bfbbb8156af",
        "colab": {
          "base_uri": "https://localhost:8080/"
        }
      },
      "outputs": [
        {
          "output_type": "execute_result",
          "data": {
            "text/plain": [
              "[23, 45, 67, 89, 7, 1, 2, 3, 4, 5, 6, 7, 8, 1]"
            ]
          },
          "metadata": {},
          "execution_count": 2
        }
      ],
      "source": [
        "#Se puede extender una lista con cualquier objeto iterable. Una tupla,\n",
        "#L.extend((3,4))\n",
        "\n",
        "L.extend(range(1,9))\n",
        "#Lo siguiente no es correcto porque...\n",
        "#L1=L.extend((1,)) # la operacion extend no devuelve nada\n",
        "#print(L1)\n",
        "#Lo siguiente tampoco\n",
        "#L1=L.extend((1,)).copy() # error, estamos copiando 'nada'\n",
        "#print(L1)\n",
        "L.extend((1,))\n",
        "L1=L.copy()\n",
        "L1"
      ]
    },
    {
      "cell_type": "code",
      "execution_count": 8,
      "metadata": {
        "id": "wRDmhHoYmCvB",
        "outputId": "d60919f1-951b-436c-9bc4-4c63ef0ff2d9",
        "colab": {
          "base_uri": "https://localhost:8080/"
        }
      },
      "outputs": [
        {
          "output_type": "execute_result",
          "data": {
            "text/plain": [
              "[0, 1, 2, 3]"
            ]
          },
          "metadata": {},
          "execution_count": 8
        }
      ],
      "source": [
        "#Si extendemos una lista con un diccionario, añadimos las claves del diccionario\n",
        "L=[0,1]\n",
        "L.extend({2:\"hola\",3:\"adiós\"})\n",
        "L"
      ]
    },
    {
      "cell_type": "code",
      "execution_count": 9,
      "metadata": {
        "id": "TEm3MnGImCvC",
        "outputId": "6cc98a5d-8d6d-4eed-e808-56c039a8cce9",
        "colab": {
          "base_uri": "https://localhost:8080/"
        }
      },
      "outputs": [
        {
          "output_type": "execute_result",
          "data": {
            "text/plain": [
              "[0, 1, 444, 2, 3]"
            ]
          },
          "metadata": {},
          "execution_count": 9
        }
      ],
      "source": [
        "#Añadir por posición\n",
        "L.insert(2,444)\n",
        "L"
      ]
    },
    {
      "cell_type": "code",
      "execution_count": 11,
      "metadata": {
        "id": "Ushc3l3CmCvC",
        "outputId": "ec301ab9-bf29-48f2-b87b-bf3bcc0c6f11",
        "colab": {
          "base_uri": "https://localhost:8080/"
        }
      },
      "outputs": [
        {
          "output_type": "execute_result",
          "data": {
            "text/plain": [
              "[0, 1, 444, 2]"
            ]
          },
          "metadata": {},
          "execution_count": 11
        }
      ],
      "source": [
        "#Borrar un dato (su primera aparición)\n",
        "L.remove(3)\n",
        "#print(L)\n",
        "#L.remove(888)\n",
        "L"
      ]
    },
    {
      "cell_type": "code",
      "execution_count": 20,
      "metadata": {
        "id": "-FICbT-WmCvC",
        "outputId": "7ad006f4-db43-4948-ffd3-11e55533f087",
        "colab": {
          "base_uri": "https://localhost:8080/"
        }
      },
      "outputs": [
        {
          "output_type": "execute_result",
          "data": {
            "text/plain": [
              "[3, 3, 3, 3, 33, 3, 33, 0, 33, 33, 1, 33, 33, 444, 33, 33, 2, 33, 33, 3, 3]"
            ]
          },
          "metadata": {},
          "execution_count": 20
        }
      ],
      "source": [
        "L.insert(3,33)\n",
        "L.insert(7,33)\n",
        "L.insert(0,3)\n",
        "L.append(3)\n",
        "L"
      ]
    },
    {
      "cell_type": "code",
      "execution_count": 18,
      "metadata": {
        "id": "gTHzo0qwmCvC",
        "outputId": "5b0cc3e7-2aa6-4eac-df1a-a3143d1b330b",
        "colab": {
          "base_uri": "https://localhost:8080/"
        }
      },
      "outputs": [
        {
          "output_type": "execute_result",
          "data": {
            "text/plain": [
              "0"
            ]
          },
          "metadata": {},
          "execution_count": 18
        }
      ],
      "source": [
        "#primer índice que ocupa un elemento a partir de una determinada posición (opcional)\n",
        "L.index(3)"
      ]
    },
    {
      "cell_type": "code",
      "execution_count": 19,
      "metadata": {
        "id": "912-5WFZmCvD",
        "outputId": "1c1b0ebc-1c12-410f-cd86-8e6e6d4977ab",
        "colab": {
          "base_uri": "https://localhost:8080/"
        }
      },
      "outputs": [
        {
          "output_type": "execute_result",
          "data": {
            "text/plain": [
              "16"
            ]
          },
          "metadata": {},
          "execution_count": 19
        }
      ],
      "source": [
        "L.index(3,5)"
      ]
    },
    {
      "cell_type": "code",
      "execution_count": 21,
      "metadata": {
        "id": "tuT_gMS9mCvD",
        "outputId": "1a77ab5e-4489-46f7-d733-85d28b30e5ac",
        "colab": {
          "base_uri": "https://localhost:8080/",
          "height": 141
        }
      },
      "outputs": [
        {
          "output_type": "error",
          "ename": "ValueError",
          "evalue": "3 is not in list",
          "traceback": [
            "\u001b[0;31m---------------------------------------------------------------------------\u001b[0m",
            "\u001b[0;31mValueError\u001b[0m                                Traceback (most recent call last)",
            "\u001b[0;32m/tmp/ipython-input-4083711163.py\u001b[0m in \u001b[0;36m<cell line: 0>\u001b[0;34m()\u001b[0m\n\u001b[0;32m----> 1\u001b[0;31m \u001b[0mL\u001b[0m\u001b[0;34m.\u001b[0m\u001b[0mindex\u001b[0m\u001b[0;34m(\u001b[0m\u001b[0;36m3\u001b[0m\u001b[0;34m,\u001b[0m\u001b[0;36m27\u001b[0m\u001b[0;34m)\u001b[0m\u001b[0;34m\u001b[0m\u001b[0;34m\u001b[0m\u001b[0m\n\u001b[0m",
            "\u001b[0;31mValueError\u001b[0m: 3 is not in list"
          ]
        }
      ],
      "source": [
        "L.index(3,27)"
      ]
    },
    {
      "cell_type": "code",
      "execution_count": 22,
      "metadata": {
        "id": "LRLpUPVsmCvD",
        "outputId": "e6043fd8-3b5e-4a16-de67-c669445d7fa1",
        "colab": {
          "base_uri": "https://localhost:8080/"
        }
      },
      "outputs": [
        {
          "output_type": "stream",
          "name": "stdout",
          "text": [
            "[3, 3, 3, 3, 33, 3, 33, 0, 33, 33, 1, 33, 33, 444, 33, 33, 2, 33, 33, 3, 3]\n",
            "[3, 3, 3, 33, 3, 33, 0, 33, 33, 1, 33, 33, 444, 33, 33, 2, 33, 33, 3, 3]\n"
          ]
        }
      ],
      "source": [
        "#Aunque no es un método de listas, el \"operador del\" permite eliminar por posición\n",
        "print(L)\n",
        "del (L[0]) #elimina la primera posicion\n",
        "print(L)"
      ]
    },
    {
      "cell_type": "code",
      "execution_count": 23,
      "metadata": {
        "id": "zLUbSfFnmCvD",
        "outputId": "d71ff07d-00c2-4e85-fb8d-8833293febfd",
        "colab": {
          "base_uri": "https://localhost:8080/"
        }
      },
      "outputs": [
        {
          "output_type": "stream",
          "name": "stdout",
          "text": [
            "[3, 3, 3, 33, 3, 33, 1, 33, 33, 444, 33, 33, 2, 33, 33, 3, 3]\n"
          ]
        }
      ],
      "source": [
        "del(L[5:8])\n",
        "print(L)\n",
        "#dir(L)"
      ]
    },
    {
      "cell_type": "markdown",
      "metadata": {
        "raw_mimetype": "text/latex",
        "id": "waolvdmAmCvD"
      },
      "source": [
        "**Trabajo personal**: hacer pruebas con ``pop``, ``cont``, ``sort``, ``copy``, ``clear``, ..."
      ]
    },
    {
      "cell_type": "markdown",
      "metadata": {
        "id": "GI7WkPNxmCvD"
      },
      "source": [
        "Consultar la documentación para ver el uso de las listas Python como pilas y colas."
      ]
    },
    {
      "cell_type": "markdown",
      "metadata": {
        "id": "2fWdCw1cmCvE"
      },
      "source": [
        "###### Muy importante."
      ]
    },
    {
      "cell_type": "code",
      "execution_count": 24,
      "metadata": {
        "id": "rE38-UmVmCvE",
        "outputId": "4b96d7e0-9a2d-4a4d-af8b-f64039faee97",
        "colab": {
          "base_uri": "https://localhost:8080/"
        }
      },
      "outputs": [
        {
          "output_type": "execute_result",
          "data": {
            "text/plain": [
              "NoneType"
            ]
          },
          "metadata": {},
          "execution_count": 24
        }
      ],
      "source": [
        "L.insert(0,8)\n",
        "L\n",
        "type(L.insert(0,8))\n",
        "# help(list.insert)"
      ]
    },
    {
      "cell_type": "markdown",
      "metadata": {
        "id": "Xu6toAv6mCvE"
      },
      "source": [
        "Como ya hemos visto antes, los métodos modificadores no devuelven, es decir, devuelven ``None``.\n",
        "Por eso, no funciona lo siguiente (algo que choca desde el punto de vista funcional)"
      ]
    },
    {
      "cell_type": "code",
      "execution_count": 25,
      "metadata": {
        "id": "IWNoOumtmCvE",
        "outputId": "1ab419bb-bd7c-4e43-c253-a3a9d35a7e15",
        "colab": {
          "base_uri": "https://localhost:8080/",
          "height": 141
        }
      },
      "outputs": [
        {
          "output_type": "error",
          "ename": "AttributeError",
          "evalue": "'NoneType' object has no attribute 'insert'",
          "traceback": [
            "\u001b[0;31m---------------------------------------------------------------------------\u001b[0m",
            "\u001b[0;31mAttributeError\u001b[0m                            Traceback (most recent call last)",
            "\u001b[0;32m/tmp/ipython-input-4292109626.py\u001b[0m in \u001b[0;36m<cell line: 0>\u001b[0;34m()\u001b[0m\n\u001b[0;32m----> 1\u001b[0;31m \u001b[0mL\u001b[0m\u001b[0;34m.\u001b[0m\u001b[0minsert\u001b[0m\u001b[0;34m(\u001b[0m\u001b[0;36m0\u001b[0m\u001b[0;34m,\u001b[0m\u001b[0;36m8\u001b[0m\u001b[0;34m)\u001b[0m\u001b[0;34m.\u001b[0m\u001b[0minsert\u001b[0m\u001b[0;34m(\u001b[0m\u001b[0;36m4\u001b[0m\u001b[0;34m,\u001b[0m\u001b[0;36m5\u001b[0m\u001b[0;34m)\u001b[0m\u001b[0;34m\u001b[0m\u001b[0;34m\u001b[0m\u001b[0m\n\u001b[0m",
            "\u001b[0;31mAttributeError\u001b[0m: 'NoneType' object has no attribute 'insert'"
          ]
        }
      ],
      "source": [
        "\n",
        "L.insert(0,8).insert(4,5) #como insert no devuelve nada no podemos concatenar operaciones\n"
      ]
    },
    {
      "cell_type": "markdown",
      "metadata": {
        "id": "hnu4ZvzLmCvE"
      },
      "source": [
        "### Listas por comprensión"
      ]
    },
    {
      "cell_type": "markdown",
      "metadata": {
        "id": "u-LPTO9TmCvE"
      },
      "source": [
        "Una herramienta importante de Python es la definición de listas por comprensión, un mecanismo propio de la Programación Funcional y que veremos con más detalle en sesiones posteriores.\n",
        "Corresponde a un tipo de definición habitual en matemáticas, conjuntos definidos por \"comprensión\". De momento, nos limitamos a presentarlo."
      ]
    },
    {
      "cell_type": "code",
      "execution_count": 26,
      "metadata": {
        "id": "ZH44H1TxmCvE",
        "outputId": "a13c7a8b-f3b5-4bcc-c1f4-17ad372fb8d2",
        "colab": {
          "base_uri": "https://localhost:8080/"
        }
      },
      "outputs": [
        {
          "output_type": "stream",
          "name": "stdout",
          "text": [
            "[2, 4, 6, 8, 10, 12]\n"
          ]
        }
      ],
      "source": [
        "dobles=[2*x for x in [1,2,3,4,5,6]]\n",
        "print(dobles)"
      ]
    },
    {
      "cell_type": "code",
      "execution_count": 27,
      "metadata": {
        "id": "hQqqKg68mCvF",
        "outputId": "0d924c4a-5211-43d0-ba18-ace3dcfc24a8",
        "colab": {
          "base_uri": "https://localhost:8080/"
        }
      },
      "outputs": [
        {
          "output_type": "stream",
          "name": "stdout",
          "text": [
            "[2, 4, 6, 8, 10, 12]\n"
          ]
        }
      ],
      "source": [
        "#Es una forma muy cómoda y compacta de calcular expresiones de tipo list\n",
        "#Equivale a:\n",
        "duplos=[]\n",
        "for x in [1,2,3,4,5,6]:\n",
        "    duplos.append(2*x)\n",
        "print(duplos)"
      ]
    },
    {
      "cell_type": "code",
      "execution_count": 28,
      "metadata": {
        "id": "9CqJjkOMmCvF",
        "outputId": "1e41da46-3ab1-4ffa-934e-2541c299ac10",
        "colab": {
          "base_uri": "https://localhost:8080/"
        }
      },
      "outputs": [
        {
          "output_type": "execute_result",
          "data": {
            "text/plain": [
              "[6, 12, 18]"
            ]
          },
          "metadata": {},
          "execution_count": 28
        }
      ],
      "source": [
        "#Se pueden filtrar elementos\n",
        "triples=[3*x for x in range(1,7) if (x%2==0)]\n",
        "triples"
      ]
    },
    {
      "cell_type": "code",
      "execution_count": 29,
      "metadata": {
        "id": "smXU8atJmCvF",
        "outputId": "243980b6-98eb-4c96-d174-87dbe29d25f4",
        "colab": {
          "base_uri": "https://localhost:8080/"
        }
      },
      "outputs": [
        {
          "output_type": "stream",
          "name": "stdout",
          "text": [
            "[6, 12, 18]\n"
          ]
        }
      ],
      "source": [
        "#Equivale a\n",
        "triplos=[]\n",
        "for x in [1,2,3,4,5,6]:\n",
        "    if (x%2==0):\n",
        "        triplos.append(3*x)\n",
        "print(triplos)"
      ]
    },
    {
      "cell_type": "code",
      "execution_count": 30,
      "metadata": {
        "id": "40HaKJpLmCvF",
        "outputId": "8e965567-31f7-4aec-d88e-dc6a71d9eedb",
        "colab": {
          "base_uri": "https://localhost:8080/"
        }
      },
      "outputs": [
        {
          "output_type": "execute_result",
          "data": {
            "text/plain": [
              "[(1, 3), (1, 4), (2, 3), (2, 1), (2, 4), (3, 1), (3, 4)]"
            ]
          },
          "metadata": {},
          "execution_count": 30
        }
      ],
      "source": [
        "#Se admiten expresiones lista, tupla,..\n",
        "#Se admite concatenación de parejas for...if\n",
        "combi=[(x, y) for x in [1,2,3] for y in [3,1,4] if x != y]\n",
        "combi"
      ]
    },
    {
      "cell_type": "code",
      "execution_count": 32,
      "metadata": {
        "id": "0I5_aAmpmCvF",
        "outputId": "bd349956-7dd7-4ccd-b365-f82e1be43cdc",
        "colab": {
          "base_uri": "https://localhost:8080/"
        }
      },
      "outputs": [
        {
          "output_type": "execute_result",
          "data": {
            "text/plain": [
              "[(1, 3), (1, 4), (2, 3), (2, 1), (2, 4), (3, 1), (3, 4)]"
            ]
          },
          "metadata": {},
          "execution_count": 32
        }
      ],
      "source": [
        "combs = []\n",
        "for x in [1,2,3]:\n",
        "    for y in [3,1,4]:\n",
        "        if x != y:\n",
        "            combs.append((x, y))\n",
        "combs"
      ]
    },
    {
      "cell_type": "code",
      "execution_count": 33,
      "metadata": {
        "id": "XUrE6FrOmCvF",
        "outputId": "57769ac1-c0cc-44a3-96f5-ae11362c2370",
        "colab": {
          "base_uri": "https://localhost:8080/"
        }
      },
      "outputs": [
        {
          "output_type": "execute_result",
          "data": {
            "text/plain": [
              "[[1], [1, 4], [1, 4, 9], [1, 4, 9, 16], [1, 4, 9, 16, 25]]"
            ]
          },
          "metadata": {},
          "execution_count": 33
        }
      ],
      "source": [
        "#Se pueden anidar listas definidas por conprensión.\n",
        "ani=[[x*x for x in range(1,i)] for i in range(2,7)]\n",
        "ani"
      ]
    },
    {
      "cell_type": "code",
      "execution_count": 34,
      "metadata": {
        "id": "5HiEm1xZmCvG",
        "outputId": "b2011f70-f4b0-4711-e1f4-4287a8ad47c5",
        "colab": {
          "base_uri": "https://localhost:8080/"
        }
      },
      "outputs": [
        {
          "output_type": "stream",
          "name": "stdout",
          "text": [
            "[[1, 0, 0], [0, 1, 0], [0, 0, 1]]\n"
          ]
        }
      ],
      "source": [
        "def ident(n):\n",
        "    return([[int(i==x) for i in range(0,n)] for x in range (0,n)])\n",
        "\n",
        "print(ident(3))"
      ]
    },
    {
      "cell_type": "markdown",
      "metadata": {
        "id": "peZNrYYymCvG"
      },
      "source": [
        "###### Otros tipos secuencia (además de listas): tuplas y rangos"
      ]
    },
    {
      "cell_type": "markdown",
      "metadata": {
        "id": "BDj2ph3qmCvG"
      },
      "source": [
        "Los tres tipos secuencia básicos son listas, tuplas y rangos.\n",
        "Los operadores comunes  todos ellos los encontramos en:\n",
        "    https://docs.python.org/3/library/stdtypes.html#typesseq"
      ]
    },
    {
      "cell_type": "code",
      "execution_count": 35,
      "metadata": {
        "id": "DENd6-X0mCvG",
        "outputId": "6c130e1b-3f94-4a2a-de88-658d3f48eea8",
        "colab": {
          "base_uri": "https://localhost:8080/"
        }
      },
      "outputs": [
        {
          "output_type": "stream",
          "name": "stdout",
          "text": [
            "(3, [3, 4], 'pepe')\n"
          ]
        }
      ],
      "source": [
        "#Respecto de TUPLAS, se trata de secuencias inmutables y heterogéneas\n",
        "t=3,[3,4],\"pepe\"\n",
        "print(t)"
      ]
    },
    {
      "cell_type": "code",
      "execution_count": 36,
      "metadata": {
        "id": "bpt1YmGHmCvG",
        "outputId": "1589a305-9ad4-4bff-85f6-7e6bb6c8a1ff",
        "colab": {
          "base_uri": "https://localhost:8080/",
          "height": 159
        }
      },
      "outputs": [
        {
          "output_type": "error",
          "ename": "TypeError",
          "evalue": "'tuple' object does not support item assignment",
          "traceback": [
            "\u001b[0;31m---------------------------------------------------------------------------\u001b[0m",
            "\u001b[0;31mTypeError\u001b[0m                                 Traceback (most recent call last)",
            "\u001b[0;32m/tmp/ipython-input-1738008927.py\u001b[0m in \u001b[0;36m<cell line: 0>\u001b[0;34m()\u001b[0m\n\u001b[1;32m      1\u001b[0m \u001b[0;31m#Ya dijimos que son objetos inmutables\u001b[0m\u001b[0;34m\u001b[0m\u001b[0;34m\u001b[0m\u001b[0m\n\u001b[0;32m----> 2\u001b[0;31m \u001b[0mt\u001b[0m\u001b[0;34m[\u001b[0m\u001b[0;36m2\u001b[0m\u001b[0;34m]\u001b[0m\u001b[0;34m=\u001b[0m\u001b[0;36m4\u001b[0m\u001b[0;34m\u001b[0m\u001b[0;34m\u001b[0m\u001b[0m\n\u001b[0m",
            "\u001b[0;31mTypeError\u001b[0m: 'tuple' object does not support item assignment"
          ]
        }
      ],
      "source": [
        "#Ya dijimos que son objetos inmutables\n",
        "t[2]=4"
      ]
    },
    {
      "cell_type": "code",
      "execution_count": 37,
      "metadata": {
        "id": "CuBdDDz3mCvG",
        "outputId": "2a7e0306-0c28-4899-d6bd-05bc1347a31e",
        "colab": {
          "base_uri": "https://localhost:8080/"
        }
      },
      "outputs": [
        {
          "output_type": "execute_result",
          "data": {
            "text/plain": [
              "[3, 4]"
            ]
          },
          "metadata": {},
          "execution_count": 37
        }
      ],
      "source": [
        "#El acceso por índice y slice es el común a todos los tipos de secuencias\n",
        "t[1]"
      ]
    },
    {
      "cell_type": "code",
      "execution_count": 39,
      "metadata": {
        "id": "-LGWEh5amCvG",
        "outputId": "7af53bc3-3232-4c90-d284-243f537d49f7",
        "colab": {
          "base_uri": "https://localhost:8080/"
        }
      },
      "outputs": [
        {
          "output_type": "execute_result",
          "data": {
            "text/plain": [
              "(3, [3, 4])"
            ]
          },
          "metadata": {},
          "execution_count": 39
        }
      ],
      "source": [
        "t[0:2]"
      ]
    },
    {
      "cell_type": "code",
      "execution_count": 40,
      "metadata": {
        "id": "DdTNpfffmCvQ",
        "outputId": "510eeccb-f64a-4e43-908c-50716d3e822a",
        "colab": {
          "base_uri": "https://localhost:8080/"
        }
      },
      "outputs": [
        {
          "output_type": "execute_result",
          "data": {
            "text/plain": [
              "()"
            ]
          },
          "metadata": {},
          "execution_count": 40
        }
      ],
      "source": [
        "#La tupla vacía\n",
        "s=()\n",
        "s"
      ]
    },
    {
      "cell_type": "code",
      "execution_count": 42,
      "metadata": {
        "id": "pgs5uUhumCvQ",
        "outputId": "851cdf3b-a635-4ad4-c890-d3ec8f0318e8",
        "colab": {
          "base_uri": "https://localhost:8080/"
        }
      },
      "outputs": [
        {
          "output_type": "execute_result",
          "data": {
            "text/plain": [
              "tuple"
            ]
          },
          "metadata": {},
          "execution_count": 42
        }
      ],
      "source": [
        "#los átomos llevan una coma\n",
        "s=(3,)\n",
        "s\n",
        "#type ((3))\n",
        "type((3,))"
      ]
    },
    {
      "cell_type": "code",
      "execution_count": 43,
      "metadata": {
        "id": "hkdpH3_OmCvR",
        "outputId": "0f859d6c-ac17-41b7-9c53-6a5d6f1316b3",
        "colab": {
          "base_uri": "https://localhost:8080/"
        }
      },
      "outputs": [
        {
          "output_type": "execute_result",
          "data": {
            "text/plain": [
              "(3,)"
            ]
          },
          "metadata": {},
          "execution_count": 43
        }
      ],
      "source": [
        "s=3,\n",
        "s"
      ]
    },
    {
      "cell_type": "code",
      "execution_count": 44,
      "metadata": {
        "id": "-aimmdCVmCvR",
        "outputId": "ffbc7eaa-5947-4ff2-a231-83e72fa4f626",
        "colab": {
          "base_uri": "https://localhost:8080/"
        }
      },
      "outputs": [
        {
          "output_type": "execute_result",
          "data": {
            "text/plain": [
              "(4, 9, 16)"
            ]
          },
          "metadata": {},
          "execution_count": 44
        }
      ],
      "source": [
        "#Se construyen a partir de cualquier iterable. Una lista, por ejemplo.\n",
        "s=tuple([x*x for x in range(2,5)])\n",
        "s"
      ]
    },
    {
      "cell_type": "code",
      "execution_count": 46,
      "metadata": {
        "id": "3yiNyLzcmCvR",
        "outputId": "c2eb02a4-1f0e-40bb-f10a-f2ba53ef44c2",
        "colab": {
          "base_uri": "https://localhost:8080/"
        }
      },
      "outputs": [
        {
          "output_type": "execute_result",
          "data": {
            "text/plain": [
              "4"
            ]
          },
          "metadata": {},
          "execution_count": 46
        }
      ],
      "source": [
        "#Empaquetado y desempquetado. Corresponde con la idea de matching\n",
        "s=3,4,5\n",
        "x,y,z=s\n",
        "y"
      ]
    },
    {
      "cell_type": "code",
      "execution_count": 47,
      "metadata": {
        "id": "omebf_EumCvR",
        "outputId": "0ae3d15d-e856-4cc1-9708-19e4baab90b8",
        "colab": {
          "base_uri": "https://localhost:8080/"
        }
      },
      "outputs": [
        {
          "output_type": "execute_result",
          "data": {
            "text/plain": [
              "range(1, 25, 2)"
            ]
          },
          "metadata": {},
          "execution_count": 47
        }
      ],
      "source": [
        "#Más adelante en el curso trataremos con rigor los rangos.\n",
        "#Aunque no es el uso habitual, los rangos pueden ser utilizados directamente\n",
        "#como secuencias\n",
        "#Se basan en la idea de evluación perezosa (no se calculan sus elementos hasta que no se demanda)\n",
        "range (1,25,2)"
      ]
    },
    {
      "cell_type": "code",
      "execution_count": 48,
      "metadata": {
        "id": "zHSfR2xjmCvR",
        "outputId": "3907c51c-57ea-48b4-9d5e-450a7b7ed5f2",
        "colab": {
          "base_uri": "https://localhost:8080/"
        }
      },
      "outputs": [
        {
          "output_type": "stream",
          "name": "stdout",
          "text": [
            "range(1, 25, 2)\n"
          ]
        }
      ],
      "source": [
        "print(range(1, 25, 2))"
      ]
    },
    {
      "cell_type": "code",
      "execution_count": 49,
      "metadata": {
        "id": "VCpnvsZ6mCvS",
        "outputId": "34518ff3-5916-4424-e20a-10ea989a6308",
        "colab": {
          "base_uri": "https://localhost:8080/"
        }
      },
      "outputs": [
        {
          "output_type": "execute_result",
          "data": {
            "text/plain": [
              "False"
            ]
          },
          "metadata": {},
          "execution_count": 49
        }
      ],
      "source": [
        "4 in range(1,25,2)"
      ]
    },
    {
      "cell_type": "code",
      "execution_count": 50,
      "metadata": {
        "id": "XCXK-2osmCvS",
        "outputId": "fdebeb49-7888-4461-a563-17233eee5925",
        "colab": {
          "base_uri": "https://localhost:8080/"
        }
      },
      "outputs": [
        {
          "output_type": "execute_result",
          "data": {
            "text/plain": [
              "7"
            ]
          },
          "metadata": {},
          "execution_count": 50
        }
      ],
      "source": [
        "s=range(1,25,7)\n",
        "s.step"
      ]
    },
    {
      "cell_type": "code",
      "execution_count": 51,
      "metadata": {
        "id": "LLf23_wJmCvS",
        "outputId": "e3ad676d-2ac0-45c6-c3e0-a88c01799e49",
        "colab": {
          "base_uri": "https://localhost:8080/"
        }
      },
      "outputs": [
        {
          "output_type": "execute_result",
          "data": {
            "text/plain": [
              "True"
            ]
          },
          "metadata": {},
          "execution_count": 51
        }
      ],
      "source": [
        "5 not in s"
      ]
    },
    {
      "cell_type": "code",
      "execution_count": 52,
      "metadata": {
        "id": "r95I06NYmCvS",
        "outputId": "7b4e93c5-e3fb-4ae4-b4ec-088ede2b1865",
        "colab": {
          "base_uri": "https://localhost:8080/"
        }
      },
      "outputs": [
        {
          "output_type": "execute_result",
          "data": {
            "text/plain": [
              "(4, 5, 6, 7)"
            ]
          },
          "metadata": {},
          "execution_count": 52
        }
      ],
      "source": [
        "s=tuple(range(4,8))\n",
        "s"
      ]
    },
    {
      "cell_type": "code",
      "execution_count": 53,
      "metadata": {
        "id": "2NbD884XmCvS",
        "outputId": "42794b3f-49f2-4461-a5c2-ef8a75e658cf",
        "colab": {
          "base_uri": "https://localhost:8080/"
        }
      },
      "outputs": [
        {
          "output_type": "execute_result",
          "data": {
            "text/plain": [
              "11"
            ]
          },
          "metadata": {},
          "execution_count": 53
        }
      ],
      "source": [
        "min(range(5,8))+max(range(3,7))\n"
      ]
    },
    {
      "cell_type": "code",
      "execution_count": 54,
      "metadata": {
        "id": "s4TvSlvKmCvS",
        "outputId": "2f11254e-72d8-42d3-abef-5d73344aac5f",
        "colab": {
          "base_uri": "https://localhost:8080/"
        }
      },
      "outputs": [
        {
          "output_type": "execute_result",
          "data": {
            "text/plain": [
              "3"
            ]
          },
          "metadata": {},
          "execution_count": 54
        }
      ],
      "source": [
        "range(2,4)[1]"
      ]
    },
    {
      "cell_type": "code",
      "execution_count": 55,
      "metadata": {
        "id": "-mW1GJJqmCvT",
        "outputId": "11ca6648-bce2-4cc9-f27e-9349295b4297",
        "colab": {
          "base_uri": "https://localhost:8080/"
        }
      },
      "outputs": [
        {
          "output_type": "stream",
          "name": "stdout",
          "text": [
            "range(4, 9, 3)\n"
          ]
        }
      ],
      "source": [
        "#Accesores a rangos mediante índices\n",
        "l=range(2,17)[2:7:3]\n",
        "print(l)"
      ]
    },
    {
      "cell_type": "markdown",
      "metadata": {
        "id": "A_aC_hFTmCvT"
      },
      "source": [
        "**Trabajo personal**: respecto de conjuntos y diccionarios, consultad el Tutorial de Python."
      ]
    },
    {
      "cell_type": "code",
      "execution_count": null,
      "metadata": {
        "id": "btL8hmYsmCvT"
      },
      "outputs": [],
      "source": [
        "list(l)\n",
        "l.count(6)"
      ]
    },
    {
      "cell_type": "markdown",
      "source": [
        "-------------------------------"
      ],
      "metadata": {
        "id": "JcgkaHVNnYm8"
      }
    },
    {
      "cell_type": "markdown",
      "metadata": {
        "id": "cyjsVCWpmCvT"
      },
      "source": [
        "## Ejercicios\n",
        "\n",
        "A continuación se listan los ejercicios a realizar para esta sesión. Para cada uno de ellos se proporciona la cabecera de la función a definir junto con unos casos de prueba para verificar el comportamiento correcto de los métodos. Lo único que deberás hacer es reemplazar el ``pass`` por la definición de la función."
      ]
    },
    {
      "cell_type": "markdown",
      "source": [
        "**Ejercicio:** Mediante listas definidas por comprensión define una función que calcule la suma de los cuadrados de los números menores que un entero dado."
      ],
      "metadata": {
        "id": "Gfo88vC9pZQu"
      }
    },
    {
      "cell_type": "code",
      "source": [
        "def suma_cuadrados_menores_entero(lista,x):\n",
        "  '''\n",
        "  >>> suma_cuadrados_menores_entero([],2)\n",
        "  0\n",
        "  >>> suma_cuadrados_menores_entero(range(0,10),5)\n",
        "  30\n",
        "  >>> suma_cuadrados_menores_entero(range(-10,10,2),0)\n",
        "  220\n",
        "  '''\n",
        "  pass\n",
        "  return sum([a*a for a in lista if a<x])"
      ],
      "metadata": {
        "id": "krlbKzrZphiV"
      },
      "execution_count": 57,
      "outputs": []
    },
    {
      "cell_type": "code",
      "source": [
        "import doctest\n",
        "doctest.testmod()"
      ],
      "metadata": {
        "id": "JuQBX8W5phfl",
        "outputId": "26066cdf-91d0-4985-9c8e-0b433fead151",
        "colab": {
          "base_uri": "https://localhost:8080/"
        }
      },
      "execution_count": 58,
      "outputs": [
        {
          "output_type": "execute_result",
          "data": {
            "text/plain": [
              "TestResults(failed=0, attempted=3)"
            ]
          },
          "metadata": {},
          "execution_count": 58
        }
      ]
    },
    {
      "cell_type": "markdown",
      "source": [
        "**Ejercicio:** Mediante listas definidas por comprensión define una función que calcule la lista de los divisores de un número."
      ],
      "metadata": {
        "id": "xnh8WJx7prs-"
      }
    },
    {
      "cell_type": "code",
      "source": [
        "def divisores(x):\n",
        "  '''\n",
        "  >>> divisores(0)\n",
        "  []\n",
        "  >>> divisores(7)\n",
        "  [1, 7]\n",
        "  >>> divisores(12)\n",
        "  [1, 2, 3, 4, 6, 12]\n",
        "  '''\n",
        "  pass"
      ],
      "metadata": {
        "id": "CIh3y4z4prs_"
      },
      "execution_count": null,
      "outputs": []
    },
    {
      "cell_type": "code",
      "source": [
        "doctest.testmod()"
      ],
      "metadata": {
        "id": "VHSw4piEprtA"
      },
      "execution_count": null,
      "outputs": []
    },
    {
      "cell_type": "markdown",
      "source": [
        "**Ejercicio:** Mediante listas definidas por comprensión define una función que determine si un número es primo."
      ],
      "metadata": {
        "id": "VTr5la-Up1Wr"
      }
    },
    {
      "cell_type": "code",
      "source": [
        "def es_primo(x):\n",
        "  '''\n",
        "  >>> es_primo(1)\n",
        "  False\n",
        "  >>> es_primo(7)\n",
        "  True\n",
        "  >>> es_primo(12)\n",
        "  False\n",
        "  '''\n",
        "  pass"
      ],
      "metadata": {
        "id": "1mhyZg5Xp1Ws"
      },
      "execution_count": null,
      "outputs": []
    },
    {
      "cell_type": "code",
      "source": [
        "doctest.testmod()"
      ],
      "metadata": {
        "id": "_K5jUwmJp1Ws"
      },
      "execution_count": null,
      "outputs": []
    },
    {
      "cell_type": "markdown",
      "source": [
        "**Ejercicio:** Mediante listas definidas por comprensión define una función que calcule los primos menores que un entero dado."
      ],
      "metadata": {
        "id": "1t9TLWlgqALk"
      }
    },
    {
      "cell_type": "code",
      "source": [
        "def primos_menores(x):\n",
        "  '''\n",
        "  >>> primos_menores(1)\n",
        "  []\n",
        "  >>> primos_menores(10)\n",
        "  [2, 3, 5, 7]\n",
        "  >>> primos_menores(50)\n",
        "  [2, 3, 5, 7, 11, 13, 17, 19, 23, 29, 31, 37, 41, 43, 47]\n",
        "  '''\n",
        "  pass"
      ],
      "metadata": {
        "id": "brqFhGDDqALl"
      },
      "execution_count": null,
      "outputs": []
    },
    {
      "cell_type": "code",
      "source": [
        "doctest.testmod()"
      ],
      "metadata": {
        "id": "UTY6MP-TqALl"
      },
      "execution_count": null,
      "outputs": []
    },
    {
      "cell_type": "markdown",
      "source": [
        "**Ejercicio:** Implementa el método para [ordenar por mezcla](https://es.wikipedia.org/wiki/Ordenamiento_por_mezcla) una lista."
      ],
      "metadata": {
        "id": "4PEyRS0GqIMO"
      }
    },
    {
      "cell_type": "code",
      "source": [
        "def mergesort(lista):\n",
        "  '''\n",
        "  >>> mergesort([])\n",
        "  []\n",
        "  >>> mergesort([1])\n",
        "  [1]\n",
        "  >>> mergesort([5,1,-1,4,5,7])\n",
        "  [-1, 1, 4, 5, 5, 7]\n",
        "  >>> mergesort([5,1,-1,4,5,7,8])\n",
        "  [-1, 1, 4, 5, 5, 7, 8]\n",
        "  '''\n",
        "  pass"
      ],
      "metadata": {
        "id": "Uw9x7r3cqIMP"
      },
      "execution_count": null,
      "outputs": []
    },
    {
      "cell_type": "code",
      "source": [
        "doctest.testmod()"
      ],
      "metadata": {
        "id": "0-gYgQh0qIMQ"
      },
      "execution_count": null,
      "outputs": []
    },
    {
      "cell_type": "markdown",
      "source": [
        "**Ejercicio:** Implementa el método [quicksort](https://es.wikipedia.org/wiki/Quicksort) para ordenar una lista."
      ],
      "metadata": {
        "id": "6TbMkAhnqSpb"
      }
    },
    {
      "cell_type": "code",
      "source": [
        "def quicksort(lista):\n",
        "  '''\n",
        "  >>> quicksort([])\n",
        "  []\n",
        "  >>> quicksort([1])\n",
        "  [1]\n",
        "  >>> quicksort([5,1,-1,4,5,7])\n",
        "  [-1, 1, 4, 5, 5, 7]\n",
        "  >>> quicksort([5,1,-1,4,5,7,8])\n",
        "  [-1, 1, 4, 5, 5, 7, 8]\n",
        "  '''\n",
        "  pass"
      ],
      "metadata": {
        "id": "TI3-VKGpqSpb"
      },
      "execution_count": null,
      "outputs": []
    },
    {
      "cell_type": "code",
      "source": [
        "doctest.testmod()"
      ],
      "metadata": {
        "id": "jj42LPq4qSpc"
      },
      "execution_count": null,
      "outputs": []
    },
    {
      "cell_type": "markdown",
      "source": [
        "**Ejercicio:** Implementa el cálculo de la transpuesta de una matriz mediante listas por comprensión. Se proporciona como ayuda la implementación de la transpuesta de una matriz \"a pelo\"."
      ],
      "metadata": {
        "id": "dYPy5ipGqf95"
      }
    },
    {
      "cell_type": "code",
      "source": [
        "#La siguiente función calcula la traspuesta de una matriz \"a pelo\".\n",
        "def traspuestaAPelo (m):\n",
        "    tras=[]\n",
        "    for i in range(len(m[0])):\n",
        "        filaT=[]\n",
        "        for j in range(len(m)):\n",
        "            filaT.append(m[j][i])\n",
        "        tras.append(filaT)\n",
        "    return(tras)\n",
        "traspuestaAPelo([[1,2,3],[4,5,6]])"
      ],
      "metadata": {
        "id": "o87fiBLgqrkQ"
      },
      "execution_count": null,
      "outputs": []
    },
    {
      "cell_type": "code",
      "source": [
        "def transpuesta(lista):\n",
        "  '''\n",
        "  >>> transpuesta([[1,2,3],[4,5,6]])\n",
        "  [[1, 4], [2, 5], [3, 6]]\n",
        "  >>> transpuesta([[1, 4], [2, 5], [3, 6]])\n",
        "  [[1, 2, 3], [4, 5, 6]]\n",
        "  >>> transpuesta([[1, 4, 5], [2, 5, 7], [3, 6, 1]])\n",
        "  [[1, 2, 3], [4, 5, 6], [5, 7, 1]]\n",
        "  '''\n",
        "  pass"
      ],
      "metadata": {
        "id": "Tg-5h79sqf96"
      },
      "execution_count": null,
      "outputs": []
    },
    {
      "cell_type": "code",
      "source": [
        "doctest.testmod()"
      ],
      "metadata": {
        "id": "bn2-KE4Fqf96"
      },
      "execution_count": null,
      "outputs": []
    },
    {
      "cell_type": "markdown",
      "metadata": {
        "id": "Z8clnWPnmCvU"
      },
      "source": [
        "**Ejercicio:** Dado un grafo orientado (representado mediante un diccionario en el cual las claves son los vértices y los valores son listas con los vertices adyacentes)  y uno de sus vértices, decidir si ese vértice es un sumidero (ninguna arista sale desde él). Además, mediante listas por comprensión, dado un grafo orientado decidir si contiene algún sumidero."
      ]
    },
    {
      "cell_type": "code",
      "source": [
        "def es_sumidero(grafo,vertice):\n",
        "  '''\n",
        "  >>> es_sumidero({1: [2,3,4], 2: [], 3: [2,4],4: [2]}, 2)\n",
        "  True\n",
        "  >>> es_sumidero({1: [2,3,4], 2: [], 3: [2,4],4: [2]}, 1)\n",
        "  False\n",
        "  >>> es_sumidero({1: [2,3,4], 2: [], 3: [2,4],4: [2]}, 3)\n",
        "  False\n",
        "  >>> es_sumidero({1: [2,3,4], 2: [], 3: [2,4],4: [2]}, 4)\n",
        "  False\n",
        "  '''\n",
        "  pass"
      ],
      "metadata": {
        "id": "PzF-FYWYqxa7"
      },
      "execution_count": null,
      "outputs": []
    },
    {
      "cell_type": "code",
      "source": [
        "doctest.testmod()"
      ],
      "metadata": {
        "id": "bl27b1NeqxVf"
      },
      "execution_count": null,
      "outputs": []
    },
    {
      "cell_type": "code",
      "source": [
        "def contiene_sumidero(grafo):\n",
        "  '''\n",
        "  >>> contiene_sumidero({1: [2,3,4], 2: [], 3: [2,4],4: [2]})\n",
        "  True\n",
        "  >>> contiene_sumidero({})\n",
        "  False\n",
        "  >>> contiene_sumidero({1: [2,4], 2: [3,4], 3: [1],4: [3]})\n",
        "  False\n",
        "  '''\n",
        "  pass"
      ],
      "metadata": {
        "id": "I1k3NqCGqxBn"
      },
      "execution_count": null,
      "outputs": []
    },
    {
      "cell_type": "code",
      "source": [
        "doctest.testmod()"
      ],
      "metadata": {
        "id": "n35HWr03qw4P"
      },
      "execution_count": null,
      "outputs": []
    },
    {
      "cell_type": "markdown",
      "metadata": {
        "id": "9Cwzs5bMmCvU"
      },
      "source": [
        "**Ejercicio:** Implementa tu propio método zip de una lista de listas usando listas por comprensión."
      ]
    },
    {
      "cell_type": "code",
      "execution_count": null,
      "metadata": {
        "id": "ggoLm4YWmCvU"
      },
      "outputs": [],
      "source": [
        "def mizip(lista1,lista2):\n",
        "  '''\n",
        "  >>> mizip([1,2,3],[4,5])\n",
        "  [(1, 4), (2, 5)]\n",
        "  >>> mizip([1,2,3],[4,5,6])\n",
        "  [(1, 4), (2, 5), (3, 6)]\n",
        "  >>> mizip([1,2],[4,5,6])\n",
        "  [(1, 4), (2, 5)]\n",
        "  '''\n",
        "  pass"
      ]
    },
    {
      "cell_type": "code",
      "execution_count": null,
      "metadata": {
        "id": "F0QF_VgCmCvU"
      },
      "outputs": [],
      "source": [
        "doctest.testmod()"
      ]
    },
    {
      "cell_type": "markdown",
      "source": [
        "# Entrega\n",
        "Recuerda guardar este notebook en tu repositorio de GitHub."
      ],
      "metadata": {
        "id": "LjU5aMwiHbn0"
      }
    }
  ],
  "metadata": {
    "celltoolbar": "Raw Cell Format",
    "kernelspec": {
      "display_name": "Python 3 (ipykernel)",
      "language": "python",
      "name": "python3"
    },
    "language_info": {
      "codemirror_mode": {
        "name": "ipython",
        "version": 3
      },
      "file_extension": ".py",
      "mimetype": "text/x-python",
      "name": "python",
      "nbconvert_exporter": "python",
      "pygments_lexer": "ipython3",
      "version": "3.8.10"
    },
    "colab": {
      "provenance": [],
      "include_colab_link": true
    }
  },
  "nbformat": 4,
  "nbformat_minor": 0
}